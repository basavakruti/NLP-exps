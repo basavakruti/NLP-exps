{
  "nbformat": 4,
  "nbformat_minor": 0,
  "metadata": {
    "colab": {
      "provenance": [],
      "authorship_tag": "ABX9TyMafvCWBjaBARyr81alW/4X",
      "include_colab_link": true
    },
    "kernelspec": {
      "name": "python3",
      "display_name": "Python 3"
    },
    "language_info": {
      "name": "python"
    }
  },
  "cells": [
    {
      "cell_type": "markdown",
      "metadata": {
        "id": "view-in-github",
        "colab_type": "text"
      },
      "source": [
        "<a href=\"https://colab.research.google.com/github/basavakruti/NLP-exps/blob/main/bkm_tokenisation.ipynb\" target=\"_parent\"><img src=\"https://colab.research.google.com/assets/colab-badge.svg\" alt=\"Open In Colab\"/></a>"
      ]
    },
    {
      "cell_type": "code",
      "execution_count": null,
      "metadata": {
        "colab": {
          "base_uri": "https://localhost:8080/"
        },
        "id": "DA-gFplhDA3p",
        "outputId": "c05879bb-e874-4003-e520-276747a80308"
      },
      "outputs": [
        {
          "output_type": "stream",
          "name": "stdout",
          "text": [
            "['Basavakruti', 'is', 'going', 'to', 'Delhi']\n"
          ]
        }
      ],
      "source": [
        "sent1 = \"Basavakruti is going to Delhi\"\n",
        "print(sent1.split())"
      ]
    },
    {
      "cell_type": "code",
      "source": [
        "sent2 = \"Basavakruti is going to Delhi. She will stay there 3 days\"\n",
        "print(sent2.split('.'))"
      ],
      "metadata": {
        "colab": {
          "base_uri": "https://localhost:8080/"
        },
        "id": "35Wht42mD37W",
        "outputId": "6f239432-706c-4292-de21-408380fe502a"
      },
      "execution_count": null,
      "outputs": [
        {
          "output_type": "stream",
          "name": "stdout",
          "text": [
            "['Basavakruti is going to Delhi', ' She will stay there 3 days']\n"
          ]
        }
      ]
    },
    {
      "cell_type": "code",
      "source": [
        "sent3 = \"Basavakruti is going to Delhi!\"\n",
        "print(sent3.split())"
      ],
      "metadata": {
        "colab": {
          "base_uri": "https://localhost:8080/"
        },
        "id": "ZF4FXjScD9fk",
        "outputId": "6e83c8dc-1cb3-45e7-ed7a-7de0c0b077fb"
      },
      "execution_count": null,
      "outputs": [
        {
          "output_type": "stream",
          "name": "stdout",
          "text": [
            "['Basavakruti', 'is', 'going', 'to', 'Delhi!']\n"
          ]
        }
      ]
    },
    {
      "cell_type": "code",
      "source": [
        "sent4 = \"Where does Basavakruti think he should go? She has a 3 day holiday.\"\n",
        "print(sent4.split('?'))\n",
        "print(sent4.split('.'))"
      ],
      "metadata": {
        "colab": {
          "base_uri": "https://localhost:8080/"
        },
        "id": "bK3z_OyLELgv",
        "outputId": "30211c63-29be-4a9a-d6f2-17f43336f868"
      },
      "execution_count": null,
      "outputs": [
        {
          "output_type": "stream",
          "name": "stdout",
          "text": [
            "['Where does Basavakruti think he should go', ' She has a 3 day holiday.']\n",
            "['Where does Basavakruti think he should go? She has a 3 day holiday', '']\n"
          ]
        }
      ]
    },
    {
      "cell_type": "code",
      "source": [
        "import re\n",
        "sent5 = \"Basavakruti is going to Delhi!\"\n",
        "tokens = re.findall(\"[\\w']+\", sent5)\n",
        "print(tokens)"
      ],
      "metadata": {
        "colab": {
          "base_uri": "https://localhost:8080/"
        },
        "id": "Al4k-1suEPhS",
        "outputId": "7544ed0a-770a-4c05-fbc1-d80e81db3fd2"
      },
      "execution_count": null,
      "outputs": [
        {
          "output_type": "stream",
          "name": "stdout",
          "text": [
            "['Basavakruti', 'is', 'going', 'to', 'Delhi']\n"
          ]
        },
        {
          "output_type": "stream",
          "name": "stderr",
          "text": [
            "<>:3: SyntaxWarning: invalid escape sequence '\\w'\n",
            "<>:3: SyntaxWarning: invalid escape sequence '\\w'\n",
            "/tmp/ipython-input-4031720337.py:3: SyntaxWarning: invalid escape sequence '\\w'\n",
            "  tokens = re.findall(\"[\\w']+\", sent5)\n"
          ]
        }
      ]
    },
    {
      "cell_type": "code",
      "source": [
        "text = \"\"\"Lorem ipsum is Real text of the printing of offline text?\n",
        "Lorem ipsum has been used for html text!\n",
        "Basavakruti says lorem ipsum is dummy text. Focus on the code everyone.\"\"\"\n",
        "sentences = re.compile('[.!?]').split(text)\n",
        "print(sentences)"
      ],
      "metadata": {
        "colab": {
          "base_uri": "https://localhost:8080/"
        },
        "id": "8IGfOgSxEPWD",
        "outputId": "d55a5ced-062d-4cbf-8513-cf7995d7a05a"
      },
      "execution_count": null,
      "outputs": [
        {
          "output_type": "stream",
          "name": "stdout",
          "text": [
            "['Lorem ipsum is Real text of the printing of offline text', ' \\nLorem ipsum has been used for html text', ' \\nBasavakruti says lorem ipsum is dummy text', ' Focus on the code everyone', '']\n"
          ]
        }
      ]
    },
    {
      "cell_type": "code",
      "source": [
        "import nltk\n",
        "from nltk.tokenize import word_tokenize, sent_tokenize\n",
        "nltk.download('punkt')\n",
        "nltk.download('punkt_tab')"
      ],
      "metadata": {
        "colab": {
          "base_uri": "https://localhost:8080/"
        },
        "id": "SEPSo5y6EPKm",
        "outputId": "45a084d0-6902-4189-c27e-76b04010b866"
      },
      "execution_count": null,
      "outputs": [
        {
          "output_type": "stream",
          "name": "stderr",
          "text": [
            "[nltk_data] Downloading package punkt to /root/nltk_data...\n",
            "[nltk_data]   Package punkt is already up-to-date!\n",
            "[nltk_data] Downloading package punkt_tab to /root/nltk_data...\n",
            "[nltk_data]   Package punkt_tab is already up-to-date!\n"
          ]
        },
        {
          "output_type": "execute_result",
          "data": {
            "text/plain": [
              "True"
            ]
          },
          "metadata": {},
          "execution_count": 43
        }
      ]
    },
    {
      "cell_type": "code",
      "source": [
        "sent1 = \"Basavakruti is going to Delhi!\"\n",
        "print(word_tokenize(sent1))"
      ],
      "metadata": {
        "colab": {
          "base_uri": "https://localhost:8080/"
        },
        "id": "IEzHCuBDEO-x",
        "outputId": "8cc013e7-94e3-4041-e6e1-48c74b975e10"
      },
      "execution_count": null,
      "outputs": [
        {
          "output_type": "stream",
          "name": "stdout",
          "text": [
            "['Basavakruti', 'is', 'going', 'to', 'Delhi', '!']\n"
          ]
        }
      ]
    },
    {
      "cell_type": "code",
      "source": [
        "text = \"Basavakruti has a 3-day holiday. She will travel to Delhi.\"\n",
        "print(sent_tokenize(text))"
      ],
      "metadata": {
        "colab": {
          "base_uri": "https://localhost:8080/"
        },
        "id": "Typi3U_DFZc5",
        "outputId": "fd47a054-5b95-4739-d958-6e6f37b699f2"
      },
      "execution_count": null,
      "outputs": [
        {
          "output_type": "stream",
          "name": "stdout",
          "text": [
            "['Basavakruti has a 3-day holiday.', 'She will travel to Delhi.']\n"
          ]
        }
      ]
    },
    {
      "cell_type": "code",
      "source": [
        "import spacy\n",
        "nlp = spacy.load(\"en_core_web_sm\")"
      ],
      "metadata": {
        "id": "dWC7_JpwFl7E"
      },
      "execution_count": null,
      "outputs": []
    },
    {
      "cell_type": "code",
      "source": [
        "sent1 = \"Basavakruti is going to Delhi!\"\n",
        "sent2 = \"I have a Ph.D in A.I\"\n",
        "sent3 = \"We're here to help! mail us at basavakruti@gmail.com\"\n",
        "sent4 = \"A 5km ride costs $10.50\""
      ],
      "metadata": {
        "id": "xeJylL4cF3V4"
      },
      "execution_count": null,
      "outputs": []
    },
    {
      "cell_type": "code",
      "source": [
        "doc1 = nlp(sent1)\n",
        "doc2 = nlp(sent2)\n",
        "doc3 = nlp(sent3)\n",
        "doc4 = nlp(sent4)"
      ],
      "metadata": {
        "id": "z44M4TqhF91C"
      },
      "execution_count": null,
      "outputs": []
    },
    {
      "cell_type": "code",
      "source": [
        "for token in doc1:\n",
        "    print(token.text)"
      ],
      "metadata": {
        "colab": {
          "base_uri": "https://localhost:8080/"
        },
        "id": "R9ilefn3GDT3",
        "outputId": "a9ddc589-95cf-4a60-c18c-c0fa9fa21d92"
      },
      "execution_count": null,
      "outputs": [
        {
          "output_type": "stream",
          "name": "stdout",
          "text": [
            "Basavakruti\n",
            "is\n",
            "going\n",
            "to\n",
            "Delhi\n",
            "!\n"
          ]
        }
      ]
    },
    {
      "cell_type": "code",
      "source": [
        "for token in doc2:\n",
        "    print(token.text)"
      ],
      "metadata": {
        "colab": {
          "base_uri": "https://localhost:8080/"
        },
        "id": "yVgPNsXPGDLz",
        "outputId": "dd06c4d8-1704-46f7-9e4a-f3b0014d5f57"
      },
      "execution_count": null,
      "outputs": [
        {
          "output_type": "stream",
          "name": "stdout",
          "text": [
            "I\n",
            "have\n",
            "a\n",
            "Ph\n",
            ".\n",
            "D\n",
            "in\n",
            "A.I\n"
          ]
        }
      ]
    },
    {
      "cell_type": "code",
      "source": [
        "for token in doc3:\n",
        "    print(token.text)"
      ],
      "metadata": {
        "colab": {
          "base_uri": "https://localhost:8080/"
        },
        "id": "bsWWgN5CGDEN",
        "outputId": "1b552259-6452-4f4f-9e28-26928edafdcd"
      },
      "execution_count": null,
      "outputs": [
        {
          "output_type": "stream",
          "name": "stdout",
          "text": [
            "We\n",
            "'re\n",
            "here\n",
            "to\n",
            "help\n",
            "!\n",
            "mail\n",
            "us\n",
            "at\n",
            "basavakruti@gmail.com\n"
          ]
        }
      ]
    },
    {
      "cell_type": "code",
      "source": [
        "for token in doc4:\n",
        "    print(token.text)"
      ],
      "metadata": {
        "colab": {
          "base_uri": "https://localhost:8080/"
        },
        "id": "G-o_iWJhGC8G",
        "outputId": "61a809b4-1af3-429c-9fdd-8ea961269d56"
      },
      "execution_count": null,
      "outputs": [
        {
          "output_type": "stream",
          "name": "stdout",
          "text": [
            "A\n",
            "5\n",
            "km\n",
            "ride\n",
            "costs\n",
            "$\n",
            "10.50\n"
          ]
        }
      ]
    },
    {
      "cell_type": "code",
      "source": [
        "from nltk.stem import PorterStemmer"
      ],
      "metadata": {
        "id": "a-L5axgSGCwJ"
      },
      "execution_count": null,
      "outputs": []
    },
    {
      "cell_type": "code",
      "source": [
        "ps = PorterStemmer()\n",
        "def stem_words(text):\n",
        "    return \" \".join([ps.stem(word) for word in text.split()])"
      ],
      "metadata": {
        "id": "k63XyfgJGO0q"
      },
      "execution_count": null,
      "outputs": []
    },
    {
      "cell_type": "code",
      "source": [
        "sample = \"walk walks walking walked\"\n",
        "print(stem_words(sample))"
      ],
      "metadata": {
        "colab": {
          "base_uri": "https://localhost:8080/"
        },
        "id": "_Qj-21s_GOuR",
        "outputId": "4a7ae1bd-f3c1-4a2b-b956-de5470a0b3ad"
      },
      "execution_count": null,
      "outputs": [
        {
          "output_type": "stream",
          "name": "stdout",
          "text": [
            "walk walk walk walk\n"
          ]
        }
      ]
    },
    {
      "cell_type": "code",
      "source": [
        "text = \"Probably my lifetime favorite movie is a story of selflessness sacrifice and dedication to make a noble cause.\"\n",
        "print(text)\n",
        "print(stem_words(text))"
      ],
      "metadata": {
        "colab": {
          "base_uri": "https://localhost:8080/"
        },
        "id": "0SUmIsrzGOlA",
        "outputId": "763c0b97-95b9-43c4-e0b2-10187e6ff997"
      },
      "execution_count": null,
      "outputs": [
        {
          "output_type": "stream",
          "name": "stdout",
          "text": [
            "Probably my lifetime favorite movie is a story of selflessness sacrifice and dedication to make a noble cause.\n",
            "probabl my lifetim favorit movi is a stori of selfless sacrific and dedic to make a nobl cause.\n"
          ]
        }
      ]
    },
    {
      "cell_type": "code",
      "source": [
        "from nltk.stem import WordNetLemmatizer\n",
        "nltk.download('wordnet')\n",
        "wordnet_lemmatizer = WordNetLemmatizer()"
      ],
      "metadata": {
        "colab": {
          "base_uri": "https://localhost:8080/"
        },
        "id": "2LYZi4gqGOe8",
        "outputId": "d2dc4c9c-32ba-47fc-ac51-03de3d24ccc0"
      },
      "execution_count": null,
      "outputs": [
        {
          "output_type": "stream",
          "name": "stderr",
          "text": [
            "[nltk_data] Downloading package wordnet to /root/nltk_data...\n",
            "[nltk_data]   Package wordnet is already up-to-date!\n"
          ]
        }
      ]
    },
    {
      "cell_type": "code",
      "source": [
        "sentence = \"Basavakruti has a habit of swimming after playing for long in the sun\"\n",
        "sentence_words = word_tokenize(sentence)\n",
        "print(sentence_words)"
      ],
      "metadata": {
        "colab": {
          "base_uri": "https://localhost:8080/"
        },
        "id": "iYK8OJgTGuM8",
        "outputId": "0af6e5a9-9f50-4f71-e86b-3cb544490b01"
      },
      "execution_count": null,
      "outputs": [
        {
          "output_type": "stream",
          "name": "stdout",
          "text": [
            "['Basavakruti', 'has', 'a', 'habit', 'of', 'swimming', 'after', 'playing', 'for', 'long', 'in', 'the', 'sun']\n"
          ]
        }
      ]
    }
  ]
}