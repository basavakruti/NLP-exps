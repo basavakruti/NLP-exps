{
  "nbformat": 4,
  "nbformat_minor": 0,
  "metadata": {
    "colab": {
      "provenance": [],
      "authorship_tag": "ABX9TyO0QFO/senF/APb7UpwkT80",
      "include_colab_link": true
    },
    "kernelspec": {
      "name": "python3",
      "display_name": "Python 3"
    },
    "language_info": {
      "name": "python"
    }
  },
  "cells": [
    {
      "cell_type": "markdown",
      "metadata": {
        "id": "view-in-github",
        "colab_type": "text"
      },
      "source": [
        "<a href=\"https://colab.research.google.com/github/basavakruti/NLP-exps/blob/main/bkm_text_summarization.ipynb\" target=\"_parent\"><img src=\"https://colab.research.google.com/assets/colab-badge.svg\" alt=\"Open In Colab\"/></a>"
      ]
    },
    {
      "cell_type": "code",
      "execution_count": null,
      "metadata": {
        "colab": {
          "base_uri": "https://localhost:8080/"
        },
        "id": "33x5XrF7Hyt8",
        "outputId": "371aca73-8c64-48f1-a7e0-943df095fcd2"
      },
      "outputs": [
        {
          "output_type": "stream",
          "name": "stderr",
          "text": [
            "[nltk_data] Downloading package punkt to /root/nltk_data...\n",
            "[nltk_data]   Package punkt is already up-to-date!\n",
            "[nltk_data] Downloading package punkt_tab to /root/nltk_data...\n",
            "[nltk_data]   Package punkt_tab is already up-to-date!\n",
            "[nltk_data] Downloading package stopwords to /root/nltk_data...\n",
            "[nltk_data]   Package stopwords is already up-to-date!\n"
          ]
        },
        {
          "output_type": "execute_result",
          "data": {
            "text/plain": [
              "True"
            ]
          },
          "metadata": {},
          "execution_count": 18
        }
      ],
      "source": [
        "import nltk\n",
        "from nltk.corpus import stopwords\n",
        "from nltk.tokenize import word_tokenize, sent_tokenize\n",
        "from collections import Counter\n",
        "import string\n",
        "\n",
        "nltk.download('punkt')\n",
        "nltk.download('punkt_tab')\n",
        "nltk.download('stopwords')"
      ]
    },
    {
      "cell_type": "code",
      "source": [
        "def summarize_text(text, summary_ratio=0.3):\n",
        "    \"\"\"\n",
        "    Summarizes the input text using extractive summarization.\n",
        "\n",
        "    Parameters:\n",
        "        text (str): Input text to summarize\n",
        "        summary_ratio (float): Ratio of sentences to include in summary (default=0.3)\n",
        "\n",
        "    Returns:\n",
        "        str: Summarized text\n",
        "    \"\"\"\n",
        "    sentences = sent_tokenize(text)\n",
        "    if len(sentences) == 0:\n",
        "        return \"No sentences found in the input text.\"\n",
        "\n",
        "    stop_words = set(stopwords.words(\"english\"))\n",
        "    words = word_tokenize(text.lower())\n",
        "    words = [word for word in words if word not in stop_words and word not in string.punctuation]\n",
        "\n",
        "    word_frequencies = Counter(words)\n",
        "\n",
        "    max_frequency = max(word_frequencies.values(), default=1)\n",
        "    for word in word_frequencies:\n",
        "        word_frequencies[word] /= max_frequency\n",
        "\n",
        "    sentence_scores = {}\n",
        "    for sentence in sentences:\n",
        "        for word in word_tokenize(sentence.lower()):\n",
        "            if word in word_frequencies:\n",
        "                sentence_scores[sentence] = sentence_scores.get(sentence, 0) + word_frequencies[word]\n",
        "\n",
        "        num_sentences = max(1, int(len(sentences) * summary_ratio))\n",
        "    summarized_sentences = sorted(sentence_scores, key=sentence_scores.get, reverse=True)[:num_sentences]\n",
        "\n",
        "    return \" \".join(summarized_sentences)"
      ],
      "metadata": {
        "id": "OrPrWlzfMCxa"
      },
      "execution_count": null,
      "outputs": []
    },
    {
      "cell_type": "code",
      "source": [
        "if __name__ == \"__main__\":\n",
        "    text_example = \"\"\"\n",
        "    Natural Language Processing (NLP) helps computers understand human language.\n",
        "    Basavakruti uses NLP to summarize text automatically.\n",
        "    With NLP, tasks like translation and sentiment analysis become easier.\n",
        "    \"\"\"\n",
        "    summary = summarize_text(text_example, summary_ratio=0.5)  # summarizing 50% of sentences\n",
        "    print(\"Original Text:\\n\")\n",
        "    print(text_example)\n",
        "\n",
        "    print(\"\\nSummarized Text:\\n\")\n",
        "    print(summary)"
      ],
      "metadata": {
        "colab": {
          "base_uri": "https://localhost:8080/"
        },
        "id": "EBxdpdrIMCr8",
        "outputId": "bb196429-3964-43af-dcca-f8aca3e8202c"
      },
      "execution_count": null,
      "outputs": [
        {
          "output_type": "stream",
          "name": "stdout",
          "text": [
            "Original Text:\n",
            "\n",
            "\n",
            "    Natural Language Processing (NLP) helps computers understand human language. \n",
            "    Basavakruti uses NLP to summarize text automatically. \n",
            "    With NLP, tasks like translation and sentiment analysis become easier. \n",
            "    \n",
            "\n",
            "Summarized Text:\n",
            "\n",
            "\n",
            "    Natural Language Processing (NLP) helps computers understand human language.\n"
          ]
        }
      ]
    }
  ]
}