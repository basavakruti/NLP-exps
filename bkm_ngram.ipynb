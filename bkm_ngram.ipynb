{
  "nbformat": 4,
  "nbformat_minor": 0,
  "metadata": {
    "colab": {
      "provenance": [],
      "authorship_tag": "ABX9TyMl5Rvd6gtXI+mSJDWwNHob",
      "include_colab_link": true
    },
    "kernelspec": {
      "name": "python3",
      "display_name": "Python 3"
    },
    "language_info": {
      "name": "python"
    }
  },
  "cells": [
    {
      "cell_type": "markdown",
      "metadata": {
        "id": "view-in-github",
        "colab_type": "text"
      },
      "source": [
        "<a href=\"https://colab.research.google.com/github/basavakruti/NLP-exps/blob/main/bkm_ngram.ipynb\" target=\"_parent\"><img src=\"https://colab.research.google.com/assets/colab-badge.svg\" alt=\"Open In Colab\"/></a>"
      ]
    },
    {
      "cell_type": "code",
      "execution_count": 8,
      "metadata": {
        "id": "kBx0qNR8iwIN"
      },
      "outputs": [],
      "source": [
        "from typing import List"
      ]
    },
    {
      "cell_type": "code",
      "source": [
        "def generate_ngrams(text: str, n: int) -> List[str]:\n",
        "    \"\"\"\n",
        "    Generate n-grams from the given text.\n",
        "    Parameters:\n",
        "    text (str): The input text.\n",
        "    n (int): The size of the n-grams.\n",
        "    Returns:\n",
        "    List[str]: A list of n-grams.\n",
        "    \"\"\"\n",
        "    if not isinstance(text, str) or not isinstance(n, int) or n <= 0:\n",
        "        raise ValueError(\"Text must be a string and n must be a positive integer.\")\n",
        "\n",
        "    words = text.split()\n",
        "    if n > len(words):\n",
        "        raise ValueError(\"n cannot be greater than the number of words in the text.\")\n",
        "\n",
        "    ngrams = [' '.join(words[i:i + n]) for i in range(len(words) - n + 1)]\n",
        "    return ngrams"
      ],
      "metadata": {
        "id": "zpTmSAIBjWSM"
      },
      "execution_count": 9,
      "outputs": []
    },
    {
      "cell_type": "code",
      "source": [
        "if __name__ == \"__main__\":\n",
        "    text = input(\"Enter the text: \").strip()\n",
        "    try:\n",
        "        n = int(input(\"Enter the value of n (e.g., 2 for bigrams, 3 for trigrams): \"))\n",
        "\n",
        "        ngrams = generate_ngrams(text, n)\n",
        "        print(f\"\\nThe {n}-grams are:\")\n",
        "        for gram in ngrams:\n",
        "            print(gram)\n",
        "\n",
        "    except ValueError as e:\n",
        "        print(f\"Error: {e}\")"
      ],
      "metadata": {
        "colab": {
          "base_uri": "https://localhost:8080/",
          "height": 0
        },
        "id": "biayvMO2jWO9",
        "outputId": "f0f87285-a3a3-4d19-b4ce-91beb5097be1"
      },
      "execution_count": 10,
      "outputs": [
        {
          "output_type": "stream",
          "name": "stdout",
          "text": [
            "Enter the text: Basavakruti means for dreams to come true.\n",
            "Enter the value of n (e.g., 2 for bigrams, 3 for trigrams): 2\n",
            "\n",
            "The 2-grams are:\n",
            "Basavakruti means\n",
            "means for\n",
            "for dreams\n",
            "dreams to\n",
            "to come\n",
            "come true.\n"
          ]
        }
      ]
    }
  ]
}