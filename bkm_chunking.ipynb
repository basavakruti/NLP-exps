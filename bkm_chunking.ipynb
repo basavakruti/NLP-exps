{
  "nbformat": 4,
  "nbformat_minor": 0,
  "metadata": {
    "colab": {
      "provenance": [],
      "authorship_tag": "ABX9TyPCfAiAsjd2y5rdYuivmsz6",
      "include_colab_link": true
    },
    "kernelspec": {
      "name": "python3",
      "display_name": "Python 3"
    },
    "language_info": {
      "name": "python"
    }
  },
  "cells": [
    {
      "cell_type": "markdown",
      "metadata": {
        "id": "view-in-github",
        "colab_type": "text"
      },
      "source": [
        "<a href=\"https://colab.research.google.com/github/basavakruti/NLP-exps/blob/main/bkm_chunking.ipynb\" target=\"_parent\"><img src=\"https://colab.research.google.com/assets/colab-badge.svg\" alt=\"Open In Colab\"/></a>"
      ]
    },
    {
      "cell_type": "code",
      "execution_count": 6,
      "metadata": {
        "id": "RMokFguxq3qI"
      },
      "outputs": [],
      "source": [
        "def chunk_text(text, chunk_size):\n",
        "    if not isinstance(text, str):\n",
        "        raise ValueError(\"Input text must be a string.\")\n",
        "    if not isinstance(chunk_size, int) or chunk_size <= 0:\n",
        "        raise ValueError(\"Chunk size must be a positive integer.\")\n",
        "    return [text[i:i + chunk_size] for i in range(0, len(text), chunk_size)]"
      ]
    },
    {
      "cell_type": "code",
      "source": [
        "if __name__ == \"__main__\":\n",
        "    text = input(\"Enter the text to be chunked: \")\n",
        "    try:\n",
        "        chunk_size = int(input(\"Enter the chunk size (positive integer): \"))\n",
        "    except ValueError:\n",
        "        print(\"Invalid input. Chunk size must be a positive integer.\")\n",
        "        exit(1)\n",
        "    try:\n",
        "        chunks = chunk_text(text, chunk_size)\n",
        "        print(\"\\nChunks:\")\n",
        "        for i, chunk in enumerate(chunks, start=1):\n",
        "            print(f\"Chunk {i}: {chunk}\")\n",
        "    except ValueError as e:\n",
        "        print(f\"Error: {e}\")"
      ],
      "metadata": {
        "colab": {
          "base_uri": "https://localhost:8080/",
          "height": 0
        },
        "id": "e282Te7HrMUs",
        "outputId": "2a77c198-73f1-4404-e787-fd17cb46ee35"
      },
      "execution_count": 8,
      "outputs": [
        {
          "output_type": "stream",
          "name": "stdout",
          "text": [
            "Enter the text to be chunked: Basavakruti then went on to choose engineering.\n",
            "Enter the chunk size (positive integer): 8\n",
            "\n",
            "Chunks:\n",
            "Chunk 1: Basavakr\n",
            "Chunk 2: uti then\n",
            "Chunk 3:  went on\n",
            "Chunk 4:  to choo\n",
            "Chunk 5: se engin\n",
            "Chunk 6: eering.\n"
          ]
        }
      ]
    }
  ]
}