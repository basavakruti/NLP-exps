{
  "nbformat": 4,
  "nbformat_minor": 0,
  "metadata": {
    "colab": {
      "provenance": [],
      "authorship_tag": "ABX9TyNiZjdZhRZ2FOR4/zFeVdcx",
      "include_colab_link": true
    },
    "kernelspec": {
      "name": "python3",
      "display_name": "Python 3"
    },
    "language_info": {
      "name": "python"
    }
  },
  "cells": [
    {
      "cell_type": "markdown",
      "metadata": {
        "id": "view-in-github",
        "colab_type": "text"
      },
      "source": [
        "<a href=\"https://colab.research.google.com/github/basavakruti/NLP-exps/blob/main/bkm_morphological_analysis.ipynb\" target=\"_parent\"><img src=\"https://colab.research.google.com/assets/colab-badge.svg\" alt=\"Open In Colab\"/></a>"
      ]
    },
    {
      "cell_type": "code",
      "execution_count": 7,
      "metadata": {
        "colab": {
          "base_uri": "https://localhost:8080/",
          "height": 0
        },
        "id": "pv1qJzvamK7e",
        "outputId": "8fa0f62f-501b-4c88-be12-c912b26114ba"
      },
      "outputs": [
        {
          "output_type": "stream",
          "name": "stdout",
          "text": [
            "Requirement already satisfied: nltk in /usr/local/lib/python3.12/dist-packages (3.9.1)\n",
            "Requirement already satisfied: word_forms in /usr/local/lib/python3.12/dist-packages (2.1.0)\n",
            "Requirement already satisfied: click in /usr/local/lib/python3.12/dist-packages (from nltk) (8.2.1)\n",
            "Requirement already satisfied: joblib in /usr/local/lib/python3.12/dist-packages (from nltk) (1.5.2)\n",
            "Requirement already satisfied: regex>=2021.8.3 in /usr/local/lib/python3.12/dist-packages (from nltk) (2024.11.6)\n",
            "Requirement already satisfied: tqdm in /usr/local/lib/python3.12/dist-packages (from nltk) (4.67.1)\n",
            "Requirement already satisfied: inflect==4.1.0 in /usr/local/lib/python3.12/dist-packages (from word_forms) (4.1.0)\n"
          ]
        }
      ],
      "source": [
        "!pip install nltk word_forms\n",
        "import nltk\n",
        "from nltk.stem import WordNetLemmatizer\n",
        "from word_forms.word_forms import get_word_forms"
      ]
    },
    {
      "cell_type": "code",
      "source": [
        "nltk.download('punkt_tab')\n",
        "nltk.download('wordnet')\n",
        "nltk.download('omw-1.4')\n",
        "nltk.download('averaged_perceptron_tagger_eng')"
      ],
      "metadata": {
        "colab": {
          "base_uri": "https://localhost:8080/",
          "height": 0
        },
        "id": "5HGb9J39mUFc",
        "outputId": "35fc181c-f496-4c7b-b3ec-9139d97d669d"
      },
      "execution_count": 8,
      "outputs": [
        {
          "output_type": "stream",
          "name": "stderr",
          "text": [
            "[nltk_data] Downloading package punkt_tab to /root/nltk_data...\n",
            "[nltk_data]   Package punkt_tab is already up-to-date!\n",
            "[nltk_data] Downloading package wordnet to /root/nltk_data...\n",
            "[nltk_data]   Package wordnet is already up-to-date!\n",
            "[nltk_data] Downloading package omw-1.4 to /root/nltk_data...\n",
            "[nltk_data]   Package omw-1.4 is already up-to-date!\n",
            "[nltk_data] Downloading package averaged_perceptron_tagger_eng to\n",
            "[nltk_data]     /root/nltk_data...\n",
            "[nltk_data]   Package averaged_perceptron_tagger_eng is already up-to-\n",
            "[nltk_data]       date!\n"
          ]
        },
        {
          "output_type": "execute_result",
          "data": {
            "text/plain": [
              "True"
            ]
          },
          "metadata": {},
          "execution_count": 8
        }
      ]
    },
    {
      "cell_type": "code",
      "source": [
        "def morphological_analysis_and_generation(text):\n",
        "    lemmatizer = WordNetLemmatizer()\n",
        "    words = nltk.word_tokenize(text)\n",
        "\n",
        "    print(\"Morphological Analysis:\")\n",
        "    for word in words:\n",
        "        lemma = lemmatizer.lemmatize(word)\n",
        "        print(f'Word: {word}, Lemma: {lemma}')\n",
        "\n",
        "    print(\"\\nWord Generation:\")\n",
        "    for word in words:\n",
        "        word_forms = get_word_forms(word)\n",
        "        print(f\"Word: {word}\")\n",
        "        print(f\"  Nouns: {word_forms['n']}\")\n",
        "        print(f\"  Verbs: {word_forms['v']}\")\n",
        "        print(f\"  Adjectives: {word_forms['a']}\")\n",
        "        print(f\"  Adverbs: {word_forms['r']}\")\n",
        "        print()\n",
        "\n",
        "input_text = \"a running Basavakruti jumped quickly but so beautifully\"\n",
        "morphological_analysis_and_generation(input_text)"
      ],
      "metadata": {
        "colab": {
          "base_uri": "https://localhost:8080/",
          "height": 0
        },
        "id": "EGI5hk71myG-",
        "outputId": "9517052d-031b-4f7a-801a-4934f5f0047e"
      },
      "execution_count": 9,
      "outputs": [
        {
          "output_type": "stream",
          "name": "stdout",
          "text": [
            "Morphological Analysis:\n",
            "Word: a, Lemma: a\n",
            "Word: running, Lemma: running\n",
            "Word: Basavakruti, Lemma: Basavakruti\n",
            "Word: jumped, Lemma: jumped\n",
            "Word: quickly, Lemma: quickly\n",
            "Word: but, Lemma: but\n",
            "Word: so, Lemma: so\n",
            "Word: beautifully, Lemma: beautifully\n",
            "\n",
            "Word Generation:\n",
            "Word: a\n",
            "  Nouns: {'a', 'as'}\n",
            "  Verbs: set()\n",
            "  Adjectives: set()\n",
            "  Adverbs: set()\n",
            "\n",
            "Word: running\n",
            "  Nouns: {'runners', 'runninesses', 'run', 'runner', 'runnings', 'running', 'runniness', 'runs'}\n",
            "  Verbs: {'ran', 'run', 'runs', 'running'}\n",
            "  Adjectives: {'runny', 'running'}\n",
            "  Adverbs: set()\n",
            "\n",
            "Word: Basavakruti\n",
            "  Nouns: set()\n",
            "  Verbs: set()\n",
            "  Adjectives: set()\n",
            "  Adverbs: set()\n",
            "\n",
            "Word: jumped\n",
            "  Nouns: {'jumps', 'jumping', 'jumpings', 'jump', 'jumpiness', 'jumpinesses'}\n",
            "  Verbs: {'jumped', 'jumps', 'jumping', 'jump'}\n",
            "  Adjectives: {'jumpy'}\n",
            "  Adverbs: set()\n",
            "\n",
            "Word: quickly\n",
            "  Nouns: {'quicknesses', 'quickness', 'quicks', 'quick'}\n",
            "  Verbs: set()\n",
            "  Adjectives: {'quick'}\n",
            "  Adverbs: {'quickly', 'quick'}\n",
            "\n",
            "Word: but\n",
            "  Nouns: set()\n",
            "  Verbs: set()\n",
            "  Adjectives: set()\n",
            "  Adverbs: {'but'}\n",
            "\n",
            "Word: so\n",
            "  Nouns: {'soes', 'so'}\n",
            "  Verbs: set()\n",
            "  Adjectives: set()\n",
            "  Adverbs: {'so'}\n",
            "\n",
            "Word: beautifully\n",
            "  Nouns: set()\n",
            "  Verbs: set()\n",
            "  Adjectives: {'beautiful'}\n",
            "  Adverbs: {'beautifully'}\n",
            "\n"
          ]
        }
      ]
    }
  ]
}