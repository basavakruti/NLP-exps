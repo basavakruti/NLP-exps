{
  "nbformat": 4,
  "nbformat_minor": 0,
  "metadata": {
    "colab": {
      "provenance": [],
      "authorship_tag": "ABX9TyOmjJmNFtzlSK6KXjrFEKc9",
      "include_colab_link": true
    },
    "kernelspec": {
      "name": "python3",
      "display_name": "Python 3"
    },
    "language_info": {
      "name": "python"
    }
  },
  "cells": [
    {
      "cell_type": "markdown",
      "metadata": {
        "id": "view-in-github",
        "colab_type": "text"
      },
      "source": [
        "<a href=\"https://colab.research.google.com/github/basavakruti/NLP-exps/blob/main/bkm_NER2.ipynb\" target=\"_parent\"><img src=\"https://colab.research.google.com/assets/colab-badge.svg\" alt=\"Open In Colab\"/></a>"
      ]
    },
    {
      "cell_type": "code",
      "execution_count": 37,
      "metadata": {
        "id": "qqVga1SGbVf4"
      },
      "outputs": [],
      "source": [
        "sentence = \"The Eiffel Tower was built by Gustave Eiffel in Paris. Basavakruti visited it this year.\""
      ]
    },
    {
      "cell_type": "code",
      "source": [
        "import nltk\n",
        "from nltk.tokenize import word_tokenize\n",
        "from nltk import pos_tag, ne_chunk\n",
        "\n",
        "nltk.download('punkt')\n",
        "nltk.download('averaged_perceptron_tagger_eng')\n",
        "nltk.download('maxent_ne_chunker_tab')\n",
        "nltk.download('words')\n",
        "\n",
        "words = nltk.word_tokenize(sentence)\n",
        "tag_elements = nltk.pos_tag(words)"
      ],
      "metadata": {
        "colab": {
          "base_uri": "https://localhost:8080/",
          "height": 0
        },
        "id": "04IvvTebcpID",
        "outputId": "b37fd313-b494-47d0-cb24-5408f797523d"
      },
      "execution_count": 38,
      "outputs": [
        {
          "output_type": "stream",
          "name": "stderr",
          "text": [
            "[nltk_data] Downloading package punkt to /root/nltk_data...\n",
            "[nltk_data]   Package punkt is already up-to-date!\n",
            "[nltk_data] Downloading package averaged_perceptron_tagger_eng to\n",
            "[nltk_data]     /root/nltk_data...\n",
            "[nltk_data]   Package averaged_perceptron_tagger_eng is already up-to-\n",
            "[nltk_data]       date!\n",
            "[nltk_data] Downloading package maxent_ne_chunker_tab to\n",
            "[nltk_data]     /root/nltk_data...\n",
            "[nltk_data]   Package maxent_ne_chunker_tab is already up-to-date!\n",
            "[nltk_data] Downloading package words to /root/nltk_data...\n",
            "[nltk_data]   Package words is already up-to-date!\n"
          ]
        }
      ]
    },
    {
      "cell_type": "code",
      "source": [
        "import matplotlib\n",
        "matplotlib.use('Agg')\n",
        "abc = nltk.ne_chunk(tag_elements)\n",
        "print(abc)"
      ],
      "metadata": {
        "colab": {
          "base_uri": "https://localhost:8080/",
          "height": 0
        },
        "id": "G2vJJtfufuWh",
        "outputId": "f05de364-470f-4016-b99a-ab8b0eafce22"
      },
      "execution_count": 39,
      "outputs": [
        {
          "output_type": "stream",
          "name": "stdout",
          "text": [
            "(S\n",
            "  The/DT\n",
            "  (ORGANIZATION Eiffel/NNP Tower/NNP)\n",
            "  was/VBD\n",
            "  built/VBN\n",
            "  by/IN\n",
            "  (PERSON Gustave/NNP Eiffel/NNP)\n",
            "  in/IN\n",
            "  (GPE Paris/NNP)\n",
            "  ./.\n",
            "  (PERSON Basavakruti/NNP)\n",
            "  visited/VBD\n",
            "  it/PRP\n",
            "  this/DT\n",
            "  year/NN\n",
            "  ./.)\n"
          ]
        }
      ]
    },
    {
      "cell_type": "code",
      "source": [
        "import pandas as pd\n",
        "import spacy\n",
        "import requests\n",
        "from bs4 import BeautifulSoup\n",
        "nlp = spacy.load(\"en_core_web_sm\")\n",
        "pd.set_option(\"display.max_rows\", 200)"
      ],
      "metadata": {
        "id": "zTq6EC90gHZC"
      },
      "execution_count": 42,
      "outputs": []
    },
    {
      "cell_type": "code",
      "source": [
        "content = \"\"\"\n",
        "Black holes are one of the most fascinating and mysterious phenomena in the universe. They are regions in space where gravity is so strong that not even light can escape. The boundary surrounding a black hole is called the event horizon, and once an object crosses this boundary, it is pulled irreversibly toward the center. The first ever photograph of a black hole, located in the M87 galaxy, was captured by the Event Horizon Telescope in 2019. This breakthrough provided scientists with direct visual evidence of a black hole’s existence.\n",
        "The concept of black holes dates back to the early 20th century when Albert Einstein’s theory of general relativity predicted their existence. Over the years, astronomers have discovered that black holes come in various sizes, from stellar-mass black holes formed when massive stars collapse, to supermassive black holes at the centers of most galaxies, including our own Milky Way.\n",
        "Despite their immense gravity, black holes do not \"suck in\" everything around them. Objects that are far enough away from the event horizon will not be affected. However, black holes have been found to influence the motion of stars and gas in their vicinity, shaping galaxies in ways that are still being studied by astrophysicists.\n",
        "In 2021, NASA's James Webb Space Telescope, scheduled for launch, is expected to provide further insights into the behavior of black holes and their impact on galaxy formation. The mysteries of black holes continue to captivate scientists, and with upcoming advancements in technology, we are likely to learn even more about these enigmatic space objects in the coming decades.\n",
        "\"\"\"\n",
        "doc = nlp(content)\n",
        "for ent in doc.ents:\n",
        "    print(ent.text, ent.start_char, ent.end_char, ent.label_)\n"
      ],
      "metadata": {
        "colab": {
          "base_uri": "https://localhost:8080/",
          "height": 0
        },
        "id": "EV9968UeguzS",
        "outputId": "ef604862-a7c5-405e-b51a-b2a98213d605"
      },
      "execution_count": 45,
      "outputs": [
        {
          "output_type": "stream",
          "name": "stdout",
          "text": [
            "first 330 335 ORDINAL\n",
            "M87 384 387 ORG\n",
            "2019 443 447 DATE\n",
            "the early 20th century 585 607 DATE\n",
            "Albert Einstein 613 628 PERSON\n",
            "the years 692 701 DATE\n",
            "Milky Way 916 925 LOC\n",
            "2021 1263 1267 DATE\n",
            "NASA 1269 1273 ORG\n",
            "James Webb Space Telescope 1276 1302 PERSON\n",
            "the coming decades 1618 1636 DATE\n"
          ]
        }
      ]
    }
  ]
}