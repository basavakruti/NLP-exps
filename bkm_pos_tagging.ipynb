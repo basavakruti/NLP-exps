{
  "nbformat": 4,
  "nbformat_minor": 0,
  "metadata": {
    "colab": {
      "provenance": [],
      "authorship_tag": "ABX9TyP1DDrIppjd26mNN1C7vBSc",
      "include_colab_link": true
    },
    "kernelspec": {
      "name": "python3",
      "display_name": "Python 3"
    },
    "language_info": {
      "name": "python"
    }
  },
  "cells": [
    {
      "cell_type": "markdown",
      "metadata": {
        "id": "view-in-github",
        "colab_type": "text"
      },
      "source": [
        "<a href=\"https://colab.research.google.com/github/basavakruti/NLP-exps/blob/main/bkm_pos_tagging.ipynb\" target=\"_parent\"><img src=\"https://colab.research.google.com/assets/colab-badge.svg\" alt=\"Open In Colab\"/></a>"
      ]
    },
    {
      "cell_type": "code",
      "execution_count": 36,
      "metadata": {
        "id": "omfX8_BoPK4c"
      },
      "outputs": [],
      "source": [
        "import nltk\n",
        "from nltk.corpus import stopwords\n",
        "from nltk.tokenize import word_tokenize, sent_tokenize\n",
        "from nltk.stem import WordNetLemmatizer\n",
        "from nltk import pos_tag"
      ]
    },
    {
      "cell_type": "code",
      "source": [
        "nltk.download('punkt')\n",
        "nltk.download('stopwords')\n",
        "nltk.download('wordnet')\n",
        "nltk.download('averaged_perceptron_tagger')\n",
        "\n",
        "lemmatizer = WordNetLemmatizer()\n",
        "stop_words = set(stopwords.words('english'))"
      ],
      "metadata": {
        "colab": {
          "base_uri": "https://localhost:8080/",
          "height": 0
        },
        "id": "SYUpdZUgPQOq",
        "outputId": "847ada9e-47c2-41c1-d2c5-327f17d92b1b"
      },
      "execution_count": 37,
      "outputs": [
        {
          "output_type": "stream",
          "name": "stderr",
          "text": [
            "[nltk_data] Downloading package punkt to /root/nltk_data...\n",
            "[nltk_data]   Package punkt is already up-to-date!\n",
            "[nltk_data] Downloading package stopwords to /root/nltk_data...\n",
            "[nltk_data]   Package stopwords is already up-to-date!\n",
            "[nltk_data] Downloading package wordnet to /root/nltk_data...\n",
            "[nltk_data]   Package wordnet is already up-to-date!\n",
            "[nltk_data] Downloading package averaged_perceptron_tagger to\n",
            "[nltk_data]     /root/nltk_data...\n",
            "[nltk_data]   Package averaged_perceptron_tagger is already up-to-\n",
            "[nltk_data]       date!\n"
          ]
        }
      ]
    },
    {
      "cell_type": "code",
      "source": [
        "paragraph = \"\"\"Topic sentences are similar to mini thesis statements.\n",
        "Like a thesis statement, a topic sentence has a specific main point.\"\"\"\n",
        "sentences = sent_tokenize(paragraph.lower())"
      ],
      "metadata": {
        "id": "iBQTBZgYQRUQ"
      },
      "execution_count": 38,
      "outputs": []
    },
    {
      "cell_type": "code",
      "source": [
        "for i in range(len(sentences)):\n",
        "    words = word_tokenize(sentences[i])\n",
        "    words = [lemmatizer.lemmatize(word) for word in words if word.isalpha() and word not in stop_words]\n",
        "    sentences[i] = ' '.join(words)\n",
        "    pos_tagged = pos_tag(words)\n",
        "    print(f\"Sentence {i+1}: {sentences[i]}\")\n",
        "    print(f\"POS Tags {i+1}: {pos_tagged}\\n\")"
      ],
      "metadata": {
        "colab": {
          "base_uri": "https://localhost:8080/",
          "height": 0
        },
        "id": "Oppw_OqdQT4f",
        "outputId": "d88c060a-a990-423a-bd55-635dcdf2eb40"
      },
      "execution_count": 39,
      "outputs": [
        {
          "output_type": "stream",
          "name": "stdout",
          "text": [
            "Sentence 1: topic sentence similar mini thesis statement\n",
            "POS Tags 1: [('topic', 'NN'), ('sentence', 'NN'), ('similar', 'JJ'), ('mini', 'NN'), ('thesis', 'NN'), ('statement', 'NN')]\n",
            "\n",
            "Sentence 2: like thesis statement topic sentence specific main point\n",
            "POS Tags 2: [('like', 'IN'), ('thesis', 'NN'), ('statement', 'NN'), ('topic', 'NN'), ('sentence', 'NN'), ('specific', 'JJ'), ('main', 'JJ'), ('point', 'NN')]\n",
            "\n"
          ]
        }
      ]
    }
  ]
}